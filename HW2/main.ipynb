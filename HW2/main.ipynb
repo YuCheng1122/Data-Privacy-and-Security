{
 "cells": [
  {
   "cell_type": "code",
   "execution_count": null,
   "id": "e57b17ae",
   "metadata": {},
   "outputs": [
    {
     "name": "stdout",
     "output_type": "stream",
     "text": [
      "workclass (9): ['0', 'Federal-gov', 'Local-gov', 'Never-worked', 'Private'] …\n",
      "education (16): ['10th', '11th', '12th', '1st-4th', '5th-6th'] …\n",
      "education-num (16): ['1', '10', '11', '12', '13'] …\n",
      "marital-status (7): ['Divorced', 'Married-AF-spouse', 'Married-civ-spouse', 'Married-spouse-absent', 'Never-married'] …\n",
      "occupation (15): ['0', 'Adm-clerical', 'Armed-Forces', 'Craft-repair', 'Exec-managerial'] …\n",
      "relationship (6): ['Husband', 'Not-in-family', 'Other-relative', 'Own-child', 'Unmarried'] …\n",
      "race (5): ['Amer-Indian-Eskimo', 'Asian-Pac-Islander', 'Black', 'Other', 'White'] …\n",
      "sex (2): ['Female', 'Male'] …\n",
      "native-country (42): ['0', 'Cambodia', 'Canada', 'China', 'Columbia'] …\n",
      "income (2): ['<=50K', '>50K'] …\n",
      "age_bin (5): [0, 1, 2, 3, 4] …\n",
      "hours_bin (5): [0, 1, 2, 3, 4] …\n"
     ]
    }
   ],
   "source": [
    "import json, numpy as np, pandas as pd\n",
    "from ucimlrepo import fetch_ucirepo\n",
    "\n",
    "adult = fetch_ucirepo(id=2)\n",
    "df = adult.data.features.assign(income=adult.data.targets.squeeze())\n",
    "df = df.replace(\"?\", np.nan).fillna(\"0\")\n",
    "\n",
    "domain = {}\n",
    "\n",
    "skip = {\"fnlwgt\", \"capital-gain\", \"capital-loss\", \"age\", \"hours-per-week\"}\n",
    "for col in df.columns:\n",
    "    if col in skip:\n",
    "        continue\n",
    "    domain[col] = sorted(df[col].astype(str).unique().tolist())\n",
    "\n",
    "domain[\"age_bin\"] = sorted(pd.cut(\n",
    "    df[\"age\"].astype(int),\n",
    "    bins=[17,25,35,50,65, df[\"age\"].astype(int).max()+1],\n",
    "    labels=False, include_lowest=True\n",
    ").unique().tolist())\n",
    "\n",
    "domain[\"hours_bin\"] = sorted(pd.cut(\n",
    "    df[\"hours-per-week\"].astype(int),\n",
    "    bins=[0,20,40,60,80, df[\"hours-per-week\"].astype(int).max()+1],\n",
    "    labels=False, include_lowest=True\n",
    ").unique().tolist())\n",
    "\n",
    "domain[\"income\"] = [\"<=50K\", \">50K\"]\n",
    "\n",
    "with open(\"domain.json\",\"w\",encoding=\"utf-8\") as f:\n",
    "    json.dump(domain, f, indent=2, ensure_ascii=False)\n",
    "\n",
    "for k, v in domain.items():\n",
    "    print(f\"{k} ({len(v)}): {v[:5]} …\")\n"
   ]
  },
  {
   "cell_type": "code",
   "execution_count": 4,
   "id": "09656962",
   "metadata": {},
   "outputs": [
    {
     "name": "stdout",
     "output_type": "stream",
     "text": [
      "   workclass  education  education-num  marital-status  occupation  \\\n",
      "0          7          9              4               4           1   \n",
      "1          6          9              4               2           4   \n",
      "2          4         11             15               0           6   \n",
      "3          4          1             13               2           6   \n",
      "4          4          9              4               2          10   \n",
      "\n",
      "   relationship  race  sex  native-country  income  age_bin  hours_bin  \n",
      "0             1     4    1              39       0        2          1  \n",
      "1             0     4    1              39       0        2          0  \n",
      "2             1     4    1              39       0        2          1  \n",
      "3             0     2    1              39       0        3          1  \n",
      "4             5     2    0               5       0        1          1  \n"
     ]
    }
   ],
   "source": [
    "import json\n",
    "import pandas as pd\n",
    "\n",
    "with open(\"domain.json\", encoding=\"utf-8\") as f:\n",
    "    domain = json.load(f)\n",
    "\n",
    "from ucimlrepo import fetch_ucirepo\n",
    "adult = fetch_ucirepo(id=2)\n",
    "df = adult.data.features.assign(income=adult.data.targets.squeeze())\n",
    "df = df.replace(\"?\", pd.NA).fillna(\"0\")\n",
    "\n",
    "df[\"age_bin\"] = pd.cut(\n",
    "    df[\"age\"].astype(int),\n",
    "    bins=[17,25,35,50,65, df[\"age\"].astype(int).max()+1],\n",
    "    labels=False, include_lowest=True\n",
    ")\n",
    "\n",
    "df[\"hours_bin\"] = pd.cut(\n",
    "    df[\"hours-per-week\"].astype(int),\n",
    "    bins=[0,20,40,60,80, df[\"hours-per-week\"].astype(int).max()+1],\n",
    "    labels=False, include_lowest=True\n",
    ")\n",
    "\n",
    "df_code = df.copy()\n",
    "\n",
    "for col, vals in domain.items():\n",
    "    mapping = { str(v): i for i, v in enumerate(vals) }\n",
    "    df_code[col] = df_code[col].astype(str).map(mapping).fillna(0).astype(int)\n",
    "\n",
    "print(df_code[ list(domain.keys()) ].head())\n",
    "\n",
    "df_code = df_code.drop(columns=[\"age\", \"hours-per-week\"] + \n",
    "                       [c for c in df.columns if c in domain and c not in df_code.columns])\n",
    "df_code.to_csv(\"adults_discrete.csv\", index=False)\n",
    "\n"
   ]
  },
  {
   "cell_type": "code",
   "execution_count": null,
   "id": "37f15f7c",
   "metadata": {},
   "outputs": [
    {
     "name": "stdout",
     "output_type": "stream",
     "text": [
      "步驟一：載入資料與設定\n"
     ]
    },
    {
     "ename": "NameError",
     "evalue": "name 'json' is not defined",
     "output_type": "error",
     "traceback": [
      "\u001b[31m---------------------------------------------------------------------------\u001b[39m",
      "\u001b[31mNameError\u001b[39m                                 Traceback (most recent call last)",
      "\u001b[36mCell\u001b[39m\u001b[36m \u001b[39m\u001b[32mIn[1]\u001b[39m\u001b[32m, line 10\u001b[39m\n\u001b[32m      8\u001b[39m \u001b[38;5;28mprint\u001b[39m(\u001b[33m\"\u001b[39m\u001b[33m步驟一：載入資料與設定\u001b[39m\u001b[33m\"\u001b[39m)\n\u001b[32m      9\u001b[39m \u001b[38;5;28;01mwith\u001b[39;00m \u001b[38;5;28mopen\u001b[39m(domain_path, \u001b[33m'\u001b[39m\u001b[33mr\u001b[39m\u001b[33m'\u001b[39m, encoding=\u001b[33m'\u001b[39m\u001b[33mutf-8\u001b[39m\u001b[33m'\u001b[39m) \u001b[38;5;28;01mas\u001b[39;00m f:\n\u001b[32m---> \u001b[39m\u001b[32m10\u001b[39m     domain_dict = \u001b[43mjson\u001b[49m.load(f)\n\u001b[32m     11\u001b[39m     domain_shape_dict = {k: \u001b[38;5;28mlen\u001b[39m(v) \u001b[38;5;28;01mfor\u001b[39;00m k, v \u001b[38;5;129;01min\u001b[39;00m domain_dict.items()}\n\u001b[32m     13\u001b[39m \u001b[38;5;66;03m# 2. 創建 mbi Domain 物件\u001b[39;00m\n\u001b[32m     14\u001b[39m \u001b[38;5;66;03m# 確保欄位順序與 CSV 一致 (如果 CSV 有 header)\u001b[39;00m\n\u001b[32m     15\u001b[39m \u001b[38;5;66;03m# 如果 CSV 沒有 header，你需要知道欄位順序\u001b[39;00m\n",
      "\u001b[31mNameError\u001b[39m: name 'json' is not defined"
     ]
    }
   ],
   "source": [
    "from mbi import Domain, Dataset, FactoredInference\n",
    "\n",
    "data_path = 'adults_discrete.csv'\n",
    "domain_path = 'domain.json'\n",
    "output_path = 'synthetic_adults_simplified.csv'\n",
    "epsilon = 1.0\n",
    "delta = 1e-5 \n",
    "num_inference_iterations = 500\n",
    "\n",
    "print(\"步驟一：載入資料與設定\")\n",
    "with open(domain_path, 'r', encoding='utf-8') as f:\n",
    "    domain_dict = json.load(f)\n",
    "    domain_shape_dict = {k: len(v) for k, v in domain_dict.items()}\n",
    "\n",
    "try:\n",
    "    df_original_for_cols = pd.read_csv(data_path, nrows=1) # 讀取一行以獲取欄位\n",
    "    column_order = list(df_original_for_cols.columns)\n",
    "    # 確保 domain_shape_dict 的鍵符合 column_order\n",
    "    ordered_domain_shape = {col: domain_shape_dict[col] for col in column_order if col in domain_shape_dict}\n",
    "    original_domain = Domain.fromdict(ordered_domain_shape)\n",
    "except Exception as e:\n",
    "    print(f\"讀取 CSV 欄位或創建 Domain 時出錯: {e}\")\n",
    "    print(\"請確保 CSV 檔案存在且格式正確，且 domain.json 包含所有欄位。\")\n",
    "    exit()\n",
    "\n",
    "\n",
    "# 3. 載入預處理過的 CSV 資料集\n",
    "try:\n",
    "    df = pd.read_csv(data_path)\n",
    "    # 確保欄位是整數\n",
    "    for col in original_domain.attrs:\n",
    "         if col in df.columns:\n",
    "              df[col] = df[col].astype(int)\n",
    "         else:\n",
    "              print(f\"警告：欄位 '{col}' 在 domain 中但不在 CSV 中。\")\n",
    "\n",
    "    # 確保 DataFrame 欄位順序與 Domain 一致\n",
    "    df = df[original_domain.attrs]\n",
    "\n",
    "except FileNotFoundError:\n",
    "    print(f\"錯誤：找不到資料集檔案 {data_path}\")\n",
    "    exit()\n",
    "except Exception as e:\n",
    "    print(f\"讀取或處理 CSV 時出錯: {e}\")\n",
    "    exit()\n",
    "\n",
    "data = Dataset(df, original_domain)\n",
    "print(f\"資料集載入完成，共 {len(df)} 筆記錄，{len(original_domain.attrs)} 個欄位。\")\n",
    "\n",
    "# 5. 定義要測量的邊際分佈 (Marginals)\n",
    "# 第一輪：所有單一欄位 (1-way marginals)\n",
    "round1_marginals = list(original_domain.attrs)\n"
   ]
  },
  {
   "cell_type": "code",
   "execution_count": null,
   "id": "d0b8f11f",
   "metadata": {},
   "outputs": [],
   "source": []
  }
 ],
 "metadata": {
  "kernelspec": {
   "display_name": "DataPrivacy",
   "language": "python",
   "name": "python3"
  },
  "language_info": {
   "codemirror_mode": {
    "name": "ipython",
    "version": 3
   },
   "file_extension": ".py",
   "mimetype": "text/x-python",
   "name": "python",
   "nbconvert_exporter": "python",
   "pygments_lexer": "ipython3",
   "version": "3.12.0"
  }
 },
 "nbformat": 4,
 "nbformat_minor": 5
}
